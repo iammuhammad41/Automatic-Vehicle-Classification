{
  "cells": [
    {
      "cell_type": "markdown",
      "metadata": {
        "id": "view-in-github",
        "colab_type": "text"
      },
      "source": [
        "<a href=\"https://colab.research.google.com/github/iammuhammad41/Automatic-Vehicle-Classification/blob/main/vehicle_classification.ipynb\" target=\"_parent\"><img src=\"https://colab.research.google.com/assets/colab-badge.svg\" alt=\"Open In Colab\"/></a>"
      ]
    },
    {
      "cell_type": "code",
      "execution_count": null,
      "id": "ef6c77d0",
      "metadata": {
        "_cell_guid": "cdd8b198-d29a-4e9d-8407-f75e0024a693",
        "_uuid": "c4b654c6-76cc-4934-8073-1393db2c554c",
        "execution": {
          "iopub.execute_input": "2025-01-04T17:32:43.230303Z",
          "iopub.status.busy": "2025-01-04T17:32:43.229991Z",
          "iopub.status.idle": "2025-01-04T17:32:50.314808Z",
          "shell.execute_reply": "2025-01-04T17:32:50.314156Z"
        },
        "id": "ef6c77d0",
        "jupyter": {
          "outputs_hidden": false
        },
        "papermill": {
          "duration": 7.095516,
          "end_time": "2025-01-04T17:32:50.316272",
          "exception": false,
          "start_time": "2025-01-04T17:32:43.220756",
          "status": "completed"
        },
        "tags": []
      },
      "outputs": [],
      "source": [
        "import matplotlib.pyplot as plt\n",
        "from PIL import Image\n",
        "import numpy as np\n",
        "import pandas as pd\n",
        "import os\n",
        "\n",
        "from copy import deepcopy\n",
        "from sklearn.preprocessing import LabelEncoder\n",
        "\n",
        "import torch\n",
        "from torch.optim.lr_scheduler import ReduceLROnPlateau\n",
        "from torch.utils.data import Dataset, DataLoader\n",
        "import torchvision.transforms as transforms\n",
        "from torchvision.models import resnet50, vgg16, mobilenet_v2\n",
        "\n",
        "import torch.nn as nn\n",
        "import torch.nn.functional as F"
      ]
    },
    {
      "cell_type": "code",
      "execution_count": 1,
      "id": "ce03e0e2",
      "metadata": {
        "_cell_guid": "581d9a2a-7728-4df2-8244-e3e691b40579",
        "_uuid": "6d62de02-7c4f-4b49-8d5b-07ecb777fceb",
        "execution": {
          "iopub.execute_input": "2025-01-04T17:32:50.368231Z",
          "iopub.status.busy": "2025-01-04T17:32:50.367856Z",
          "iopub.status.idle": "2025-01-04T17:32:50.784074Z",
          "shell.execute_reply": "2025-01-04T17:32:50.783023Z"
        },
        "id": "ce03e0e2",
        "jupyter": {
          "outputs_hidden": false
        },
        "papermill": {
          "duration": 0.426627,
          "end_time": "2025-01-04T17:32:50.785544",
          "exception": false,
          "start_time": "2025-01-04T17:32:50.358917",
          "status": "completed"
        },
        "tags": []
      },
      "outputs": [],
      "source": [
        "import kagglehub\n",
        "\n",
        "# Download the dataset\n",
        "base_dir = kagglehub.dataset_download(\"marquis03/vehicle-classification\")\n",
        "print(f\"{base_dir = }\")"
      ]
    },
    {
      "cell_type": "code",
      "execution_count": null,
      "id": "a500e7c3",
      "metadata": {
        "_cell_guid": "35af2c3a-9d4a-4082-a485-4ab65023b2a9",
        "_uuid": "28e0553a-35a5-4f98-be2a-348a52b07cc6",
        "execution": {
          "iopub.execute_input": "2025-01-04T17:32:50.820734Z",
          "iopub.status.busy": "2025-01-04T17:32:50.820481Z",
          "iopub.status.idle": "2025-01-04T17:32:50.830515Z",
          "shell.execute_reply": "2025-01-04T17:32:50.829895Z"
        },
        "id": "a500e7c3",
        "jupyter": {
          "outputs_hidden": false
        },
        "outputId": "03ba4c44-bd1e-4317-883e-219130af54e1",
        "papermill": {
          "duration": 0.020293,
          "end_time": "2025-01-04T17:32:50.831662",
          "exception": false,
          "start_time": "2025-01-04T17:32:50.811369",
          "status": "completed"
        },
        "tags": []
      },
      "outputs": [
        {
          "data": {
            "text/plain": [
              "['val', 'test', 'train']"
            ]
          },
          "execution_count": 3,
          "metadata": {},
          "output_type": "execute_result"
        }
      ],
      "source": [
        "dataset = os.listdir(base_dir)\n",
        "dataset"
      ]
    },
    {
      "cell_type": "code",
      "execution_count": null,
      "id": "44110f3c",
      "metadata": {
        "_cell_guid": "3574f97a-b4a9-48fe-a70d-3ff550048497",
        "_uuid": "adfd2f84-3176-48bb-ab3c-2fd4cad3a91f",
        "execution": {
          "iopub.execute_input": "2025-01-04T17:32:50.883138Z",
          "iopub.status.busy": "2025-01-04T17:32:50.882882Z",
          "iopub.status.idle": "2025-01-04T17:32:50.887480Z",
          "shell.execute_reply": "2025-01-04T17:32:50.886826Z"
        },
        "id": "44110f3c",
        "jupyter": {
          "outputs_hidden": false
        },
        "papermill": {
          "duration": 0.014982,
          "end_time": "2025-01-04T17:32:50.888769",
          "exception": false,
          "start_time": "2025-01-04T17:32:50.873787",
          "status": "completed"
        },
        "tags": []
      },
      "outputs": [],
      "source": [
        "def create_df(base_dir, labeled=True):\n",
        "    if labeled:\n",
        "        dd = {\"images\": [], \"labels\": []}\n",
        "        for i in os.listdir(base_dir):\n",
        "            img_dirs = os.path.join(base_dir, i)\n",
        "            for j in os.listdir(img_dirs):\n",
        "                img = os.path.join(img_dirs, j)\n",
        "                dd[\"images\"] += [img]\n",
        "                dd[\"labels\"] += [i]\n",
        "\n",
        "    else:\n",
        "        dd = {\"images\": []}\n",
        "        for i in os.listdir(base_dir):\n",
        "            img_dirs = os.path.join(base_dir, i)\n",
        "            dd[\"images\"] += [img_dirs]\n",
        "\n",
        "    return pd.DataFrame(dd)"
      ]
    },
    {
      "cell_type": "code",
      "execution_count": null,
      "id": "44e2dcc9",
      "metadata": {
        "_cell_guid": "48b33670-8499-4448-b37e-e3b98f143ff6",
        "_uuid": "85324c3f-ac7f-42bc-a8b8-105168a12f45",
        "execution": {
          "iopub.execute_input": "2025-01-04T17:32:50.923374Z",
          "iopub.status.busy": "2025-01-04T17:32:50.923177Z",
          "iopub.status.idle": "2025-01-04T17:32:51.434733Z",
          "shell.execute_reply": "2025-01-04T17:32:51.434082Z"
        },
        "id": "44e2dcc9",
        "jupyter": {
          "outputs_hidden": false
        },
        "papermill": {
          "duration": 0.522123,
          "end_time": "2025-01-04T17:32:51.436316",
          "exception": false,
          "start_time": "2025-01-04T17:32:50.914193",
          "status": "completed"
        },
        "tags": []
      },
      "outputs": [],
      "source": [
        "train = create_df(os.path.join(base_dir, \"train\"))\n",
        "val = create_df(os.path.join(base_dir, \"val\"))\n",
        "test = create_df(os.path.join(base_dir, \"test\"), False)"
      ]
    },
    {
      "cell_type": "code",
      "execution_count": 4,
      "id": "55b7e45f",
      "metadata": {
        "_cell_guid": "2b2573a5-ec82-4532-94cb-1405d9d124a1",
        "_uuid": "1cc3305c-f8b5-4424-8cc3-f2b7ceb55c70",
        "execution": {
          "iopub.execute_input": "2025-01-04T17:32:51.472475Z",
          "iopub.status.busy": "2025-01-04T17:32:51.472223Z",
          "iopub.status.idle": "2025-01-04T17:32:51.501401Z",
          "shell.execute_reply": "2025-01-04T17:32:51.500438Z"
        },
        "id": "55b7e45f",
        "jupyter": {
          "outputs_hidden": false
        },
        "papermill": {
          "duration": 0.039766,
          "end_time": "2025-01-04T17:32:51.502636",
          "exception": false,
          "start_time": "2025-01-04T17:32:51.462870",
          "status": "completed"
        },
        "tags": []
      },
      "outputs": [],
      "source": [
        "print(train.info())"
      ]
    },
    {
      "cell_type": "code",
      "execution_count": null,
      "id": "91e64169",
      "metadata": {
        "_cell_guid": "851c0736-8339-455e-8009-16c44ac3f0a3",
        "_uuid": "b0d25df1-e3dd-4e2d-9308-0e4221a1307b",
        "execution": {
          "iopub.execute_input": "2025-01-04T17:32:51.554895Z",
          "iopub.status.busy": "2025-01-04T17:32:51.554680Z",
          "iopub.status.idle": "2025-01-04T17:32:51.560918Z",
          "shell.execute_reply": "2025-01-04T17:32:51.560120Z"
        },
        "id": "91e64169",
        "jupyter": {
          "outputs_hidden": false
        },
        "papermill": {
          "duration": 0.01643,
          "end_time": "2025-01-04T17:32:51.562153",
          "exception": false,
          "start_time": "2025-01-04T17:32:51.545723",
          "status": "completed"
        },
        "tags": []
      },
      "outputs": [],
      "source": [
        "le = LabelEncoder()\n",
        "train[\"labels\"] = le.fit_transform(train.loc[:, \"labels\"].values)\n",
        "val[\"labels\"] = le.transform(val.loc[:, \"labels\"].values)"
      ]
    },
    {
      "cell_type": "code",
      "execution_count": 5,
      "id": "695613a6",
      "metadata": {
        "_cell_guid": "3022cc12-5874-4cc8-8012-98bfbb2aa9db",
        "_uuid": "5b33757a-0f8e-43cd-b512-afdf08a7a1d6",
        "execution": {
          "iopub.execute_input": "2025-01-04T17:32:51.580075Z",
          "iopub.status.busy": "2025-01-04T17:32:51.579817Z",
          "iopub.status.idle": "2025-01-04T17:32:51.591271Z",
          "shell.execute_reply": "2025-01-04T17:32:51.590395Z"
        },
        "id": "695613a6",
        "jupyter": {
          "outputs_hidden": false
        },
        "papermill": {
          "duration": 0.021856,
          "end_time": "2025-01-04T17:32:51.592625",
          "exception": false,
          "start_time": "2025-01-04T17:32:51.570769",
          "status": "completed"
        },
        "tags": []
      },
      "outputs": [],
      "source": [
        "print(train.info())"
      ]
    },
    {
      "cell_type": "code",
      "execution_count": null,
      "id": "79d74b5a",
      "metadata": {
        "_cell_guid": "30e1ff57-e1dc-4861-ae55-5e975fafa5e2",
        "_uuid": "09eb2c32-507e-4465-b9a0-e767f6974aac",
        "execution": {
          "iopub.execute_input": "2025-01-04T17:32:51.629484Z",
          "iopub.status.busy": "2025-01-04T17:32:51.629246Z",
          "iopub.status.idle": "2025-01-04T17:32:51.632901Z",
          "shell.execute_reply": "2025-01-04T17:32:51.632260Z"
        },
        "id": "79d74b5a",
        "jupyter": {
          "outputs_hidden": false
        },
        "papermill": {
          "duration": 0.014588,
          "end_time": "2025-01-04T17:32:51.634242",
          "exception": false,
          "start_time": "2025-01-04T17:32:51.619654",
          "status": "completed"
        },
        "tags": []
      },
      "outputs": [],
      "source": [
        "# Constants\n",
        "\n",
        "MAX_EPOCHS = 20\n",
        "LR = 1e-5\n",
        "BATCH_SIZE = 32\n",
        "IM_SIZE= 224\n",
        "STEP = 5\n",
        "GAMMA = 0.2\n",
        "DECAY = 0.9\n",
        "NUM_CLASSES = train[\"labels\"].nunique()"
      ]
    },
    {
      "cell_type": "code",
      "execution_count": null,
      "id": "70476cd8",
      "metadata": {
        "_cell_guid": "423614fd-9fe1-4979-88b4-027ea0739f47",
        "_uuid": "c68b4fd9-8b1c-473c-8a73-927c9e59decf",
        "execution": {
          "iopub.execute_input": "2025-01-04T17:32:51.687770Z",
          "iopub.status.busy": "2025-01-04T17:32:51.687548Z",
          "iopub.status.idle": "2025-01-04T17:32:51.692528Z",
          "shell.execute_reply": "2025-01-04T17:32:51.691684Z"
        },
        "id": "70476cd8",
        "jupyter": {
          "outputs_hidden": false
        },
        "papermill": {
          "duration": 0.015633,
          "end_time": "2025-01-04T17:32:51.693724",
          "exception": false,
          "start_time": "2025-01-04T17:32:51.678091",
          "status": "completed"
        },
        "tags": []
      },
      "outputs": [],
      "source": [
        "train_transform = transforms.Compose([\n",
        "            transforms.RandomResizedCrop(224),\n",
        "            transforms.RandomHorizontalFlip(),\n",
        "            transforms.RandomRotation(15),\n",
        "            transforms.ColorJitter(brightness=0.2, contrast=0.2, saturation=0.2),\n",
        "            transforms.ToTensor(),\n",
        "            transforms.Normalize(mean=[0.485, 0.456, 0.406],\n",
        "                                std=[0.229, 0.224, 0.225])\n",
        "])\n",
        "\n",
        "val_transform = transforms.Compose([\n",
        "    transforms.Resize(256),\n",
        "    transforms.CenterCrop(224),\n",
        "    transforms.ToTensor(),\n",
        "    transforms.Normalize(mean=[0.485, 0.456, 0.406],\n",
        "                        std=[0.229, 0.224, 0.225])\n",
        "])"
      ]
    },
    {
      "cell_type": "code",
      "execution_count": null,
      "id": "7fdc9df2",
      "metadata": {
        "_cell_guid": "6ca9456b-67e3-42d2-a91d-cab53477bb5a",
        "_uuid": "ca6cea51-221b-4448-aaec-cf36ac67cd77",
        "execution": {
          "iopub.execute_input": "2025-01-04T17:32:51.746766Z",
          "iopub.status.busy": "2025-01-04T17:32:51.746525Z",
          "iopub.status.idle": "2025-01-04T17:32:51.750976Z",
          "shell.execute_reply": "2025-01-04T17:32:51.750327Z"
        },
        "id": "7fdc9df2",
        "jupyter": {
          "outputs_hidden": false
        },
        "papermill": {
          "duration": 0.014859,
          "end_time": "2025-01-04T17:32:51.752158",
          "exception": false,
          "start_time": "2025-01-04T17:32:51.737299",
          "status": "completed"
        },
        "tags": []
      },
      "outputs": [],
      "source": [
        "class ImageDataset(Dataset):\n",
        "    def __init__(self, data, transform=None):\n",
        "        self.data = data\n",
        "        self.transform = transform\n",
        "\n",
        "    def __len__(self):\n",
        "        return len(self.data)\n",
        "\n",
        "    def __getitem__(self, idx):\n",
        "        image_path = self.data.iloc[idx, 0]\n",
        "        label = self.data.iloc[idx, -1]\n",
        "\n",
        "        # Load image\n",
        "        image = Image.open(image_path).convert('RGB')\n",
        "\n",
        "        # Apply transformations if specified\n",
        "        if self.transform:\n",
        "            image = self.transform(image)\n",
        "\n",
        "        return image, label"
      ]
    },
    {
      "cell_type": "code",
      "execution_count": null,
      "id": "8991214f",
      "metadata": {
        "_cell_guid": "94a0656b-dd78-4211-8578-a2fd6fb2c595",
        "_uuid": "5f2bda99-419d-41d5-ac9e-d0dffd0e4ae3",
        "execution": {
          "iopub.execute_input": "2025-01-04T17:32:51.787288Z",
          "iopub.status.busy": "2025-01-04T17:32:51.787062Z",
          "iopub.status.idle": "2025-01-04T17:32:51.790189Z",
          "shell.execute_reply": "2025-01-04T17:32:51.789531Z"
        },
        "id": "8991214f",
        "jupyter": {
          "outputs_hidden": false
        },
        "papermill": {
          "duration": 0.013639,
          "end_time": "2025-01-04T17:32:51.791361",
          "exception": false,
          "start_time": "2025-01-04T17:32:51.777722",
          "status": "completed"
        },
        "tags": []
      },
      "outputs": [],
      "source": [
        "train_ds = ImageDataset(train, train_transform)\n",
        "val_ds = ImageDataset(val, val_transform)\n",
        "test_ds = ImageDataset(test)"
      ]
    },
    {
      "cell_type": "code",
      "execution_count": 6,
      "id": "40901c63",
      "metadata": {
        "_cell_guid": "c8de50b5-b401-4e4e-b3c4-1f265bdf6ac1",
        "_uuid": "a4f47ff5-71c4-4044-9e11-42335917f521",
        "execution": {
          "iopub.execute_input": "2025-01-04T17:32:51.826440Z",
          "iopub.status.busy": "2025-01-04T17:32:51.826234Z",
          "iopub.status.idle": "2025-01-04T17:32:52.185129Z",
          "shell.execute_reply": "2025-01-04T17:32:52.184027Z"
        },
        "id": "40901c63",
        "jupyter": {
          "outputs_hidden": false
        },
        "papermill": {
          "duration": 0.372405,
          "end_time": "2025-01-04T17:32:52.189405",
          "exception": false,
          "start_time": "2025-01-04T17:32:51.817000",
          "status": "completed"
        },
        "tags": []
      },
      "outputs": [],
      "source": [
        "plt.imshow(test_ds[1][0]) # test_ds[idx][0:images]\n",
        "plt.axis(\"off\")"
      ]
    },
    {
      "cell_type": "code",
      "execution_count": 7,
      "id": "57c19010",
      "metadata": {
        "_cell_guid": "792aa9f1-17d7-4f6b-88ec-2979aaffc3f3",
        "_uuid": "3b9b5e68-66dc-4e26-9295-84f205a3015c",
        "execution": {
          "iopub.execute_input": "2025-01-04T17:32:52.243672Z",
          "iopub.status.busy": "2025-01-04T17:32:52.243378Z",
          "iopub.status.idle": "2025-01-04T17:32:52.435980Z",
          "shell.execute_reply": "2025-01-04T17:32:52.434870Z"
        },
        "id": "57c19010",
        "jupyter": {
          "outputs_hidden": false
        },
        "papermill": {
          "duration": 0.208074,
          "end_time": "2025-01-04T17:32:52.437482",
          "exception": false,
          "start_time": "2025-01-04T17:32:52.229408",
          "status": "completed"
        },
        "tags": []
      },
      "outputs": [],
      "source": [
        "print(f\"{len(train_ds[0][0][0][0]) = }\")\n",
        "print()\n",
        "print(train_ds[0][0][0][0])\n",
        "# train[idx][0:image, 1:label][Channel: RGB][transformed pixel values of nth row][nth column]"
      ]
    },
    {
      "cell_type": "code",
      "execution_count": null,
      "id": "ba013eb5",
      "metadata": {
        "_cell_guid": "37d92799-55eb-4a22-bc3f-7491b7b660a4",
        "_uuid": "b1a9e59e-b8ae-49f0-b65a-db38f5929373",
        "execution": {
          "iopub.execute_input": "2025-01-04T17:32:52.492302Z",
          "iopub.status.busy": "2025-01-04T17:32:52.492009Z",
          "iopub.status.idle": "2025-01-04T17:32:52.513915Z",
          "shell.execute_reply": "2025-01-04T17:32:52.513003Z"
        },
        "id": "ba013eb5",
        "jupyter": {
          "outputs_hidden": false
        },
        "outputId": "cce1d3ac-928b-40ad-d7bf-f5ed42295f66",
        "papermill": {
          "duration": 0.037272,
          "end_time": "2025-01-04T17:32:52.515292",
          "exception": false,
          "start_time": "2025-01-04T17:32:52.478020",
          "status": "completed"
        },
        "tags": []
      },
      "outputs": [
        {
          "name": "stdout",
          "output_type": "stream",
          "text": [
            "(3, 224, 224)\n"
          ]
        }
      ],
      "source": [
        "print(np.array(train_ds[0][0]).shape)"
      ]
    },
    {
      "cell_type": "code",
      "execution_count": null,
      "id": "cc883e04",
      "metadata": {
        "_cell_guid": "cc65f7dd-b118-4305-9b26-c5959b3d162c",
        "_uuid": "479405a6-9696-4c24-9800-9461110f377f",
        "execution": {
          "iopub.execute_input": "2025-01-04T17:32:52.570501Z",
          "iopub.status.busy": "2025-01-04T17:32:52.570239Z",
          "iopub.status.idle": "2025-01-04T17:32:52.573978Z",
          "shell.execute_reply": "2025-01-04T17:32:52.573308Z"
        },
        "id": "cc883e04",
        "jupyter": {
          "outputs_hidden": false
        },
        "papermill": {
          "duration": 0.0188,
          "end_time": "2025-01-04T17:32:52.575112",
          "exception": false,
          "start_time": "2025-01-04T17:32:52.556312",
          "status": "completed"
        },
        "tags": []
      },
      "outputs": [],
      "source": [
        "train_loader = DataLoader(train_ds, batch_size=BATCH_SIZE, shuffle=True, num_workers=4)\n",
        "val_loader = DataLoader(val_ds, batch_size=BATCH_SIZE, shuffle=False, num_workers=4)\n"
      ]
    },
    {
      "cell_type": "code",
      "execution_count": 8,
      "id": "e67d2b49",
      "metadata": {
        "_cell_guid": "010b4d00-89fe-4c81-a950-6976cf22ec41",
        "_uuid": "96716bc5-44e7-466a-95b5-518f39b78f51",
        "execution": {
          "iopub.execute_input": "2025-01-04T17:32:52.629460Z",
          "iopub.status.busy": "2025-01-04T17:32:52.629212Z",
          "iopub.status.idle": "2025-01-04T17:32:56.542861Z",
          "shell.execute_reply": "2025-01-04T17:32:56.541952Z"
        },
        "id": "e67d2b49",
        "jupyter": {
          "outputs_hidden": false
        },
        "papermill": {
          "duration": 3.938348,
          "end_time": "2025-01-04T17:32:56.553369",
          "exception": false,
          "start_time": "2025-01-04T17:32:52.615021",
          "status": "completed"
        },
        "tags": []
      },
      "outputs": [],
      "source": [
        "# Get the next batch of images and labels\n",
        "images, labels = next(iter(train_loader))\n",
        "\n",
        "images = images.permute(0, 2, 3, 1)  # Change shape from (8, C, H, W) to (8, H, W, C)\n",
        "\n",
        "fig, axes = plt.subplots(2, 4, figsize=(12, 6))  # 2 rows, 4 columns\n",
        "\n",
        "for i in range(8):\n",
        "    ax = axes[i // 4, i % 4]\n",
        "    ax.imshow(images[i].numpy())\n",
        "    ax.set_title(f\"Label: {labels[i].item()}\")\n",
        "    ax.axis('off')\n",
        "\n",
        "plt.tight_layout()\n",
        "plt.show()"
      ]
    },
    {
      "cell_type": "code",
      "execution_count": null,
      "id": "8908390b",
      "metadata": {
        "_cell_guid": "9867a61d-eb20-43ce-a321-54a7bb8decbf",
        "_uuid": "33868362-945a-4fa8-91cb-be957d932bbf",
        "execution": {
          "iopub.execute_input": "2025-01-04T17:32:56.689911Z",
          "iopub.status.busy": "2025-01-04T17:32:56.689599Z",
          "iopub.status.idle": "2025-01-04T17:32:56.779175Z",
          "shell.execute_reply": "2025-01-04T17:32:56.778346Z"
        },
        "id": "8908390b",
        "jupyter": {
          "outputs_hidden": false
        },
        "papermill": {
          "duration": 0.114495,
          "end_time": "2025-01-04T17:32:56.780459",
          "exception": false,
          "start_time": "2025-01-04T17:32:56.665964",
          "status": "completed"
        },
        "tags": [],
        "outputId": "2d151370-7b46-430c-e78a-5e493702b89e"
      },
      "outputs": [
        {
          "data": {
            "text/plain": [
              "device(type='cuda')"
            ]
          },
          "execution_count": 18,
          "metadata": {},
          "output_type": "execute_result"
        }
      ],
      "source": [
        "from torchsummary import summary\n",
        "device = torch.device(\"cuda\" if torch.cuda.is_available() else \"cpu\")\n",
        "device"
      ]
    },
    {
      "cell_type": "code",
      "execution_count": 9,
      "id": "5b6d83d7",
      "metadata": {
        "_cell_guid": "15f8a947-0624-4f6b-9b55-b7f1518b2524",
        "_uuid": "76ca0301-14d9-4af8-a0bf-6063125c72ca",
        "execution": {
          "iopub.execute_input": "2025-01-04T17:32:56.871489Z",
          "iopub.status.busy": "2025-01-04T17:32:56.871249Z",
          "iopub.status.idle": "2025-01-04T17:32:59.751154Z",
          "shell.execute_reply": "2025-01-04T17:32:59.750053Z"
        },
        "id": "5b6d83d7",
        "jupyter": {
          "outputs_hidden": false
        },
        "papermill": {
          "duration": 2.904472,
          "end_time": "2025-01-04T17:32:59.752844",
          "exception": false,
          "start_time": "2025-01-04T17:32:56.848372",
          "status": "completed"
        },
        "tags": []
      },
      "outputs": [],
      "source": [
        "class MyCNN(nn.Module):\n",
        "    def __init__(self, num_classes=10):\n",
        "        super(MyCNN, self).__init__()\n",
        "\n",
        "        # First convolution block\n",
        "        self.conv1 = nn.Sequential(\n",
        "            nn.Conv2d(3, 64, kernel_size=3, padding=1),\n",
        "            nn.BatchNorm2d(64),\n",
        "            nn.ReLU(inplace=True),\n",
        "            nn.Conv2d(64, 64, kernel_size=3, padding=1),\n",
        "            nn.BatchNorm2d(64),\n",
        "            nn.ReLU(inplace=True),\n",
        "            nn.MaxPool2d(2, 2)\n",
        "        )\n",
        "\n",
        "        # Second convolution block\n",
        "        self.conv2 = nn.Sequential(\n",
        "            nn.Conv2d(64, 128, kernel_size=3, padding=1),\n",
        "            nn.BatchNorm2d(128),\n",
        "            nn.ReLU(inplace=True),\n",
        "            nn.Conv2d(128, 128, kernel_size=3, padding=1),\n",
        "            nn.BatchNorm2d(128),\n",
        "            nn.ReLU(inplace=True),\n",
        "            nn.MaxPool2d(2, 2)\n",
        "        )\n",
        "\n",
        "        # Third convolution block\n",
        "        self.conv3 = nn.Sequential(\n",
        "            nn.Conv2d(128, 256, kernel_size=3, padding=1),\n",
        "            nn.BatchNorm2d(256),\n",
        "            nn.ReLU(inplace=True),\n",
        "            nn.Conv2d(256, 256, kernel_size=3, padding=1),\n",
        "            nn.BatchNorm2d(256),\n",
        "            nn.ReLU(inplace=True),\n",
        "            nn.MaxPool2d(2, 2)\n",
        "        )\n",
        "\n",
        "        # Fourth convolution block\n",
        "        self.conv4 = nn.Sequential(\n",
        "            nn.Conv2d(256, 512, kernel_size=3, padding=1),\n",
        "            nn.BatchNorm2d(512),\n",
        "            nn.ReLU(inplace=True),\n",
        "            nn.Conv2d(512, 512, kernel_size=3, padding=1),\n",
        "            nn.BatchNorm2d(512),\n",
        "            nn.ReLU(inplace=True),\n",
        "            nn.MaxPool2d(2, 2)\n",
        "        )\n",
        "\n",
        "        # Adaptive pooling to handle different input sizes\n",
        "        self.adaptive_pool = nn.AdaptiveAvgPool2d((7, 7))\n",
        "\n",
        "        # Fully connected layers with dropout\n",
        "        self.classifier = nn.Sequential(\n",
        "            nn.Linear(512 * 7 * 7, 4096),\n",
        "            nn.ReLU(inplace=True),\n",
        "            nn.Dropout(0.5),\n",
        "            nn.Linear(4096, 1024),\n",
        "            nn.ReLU(inplace=True),\n",
        "            nn.Dropout(0.5),\n",
        "            nn.Linear(1024, num_classes)\n",
        "        )\n",
        "\n",
        "        # Initialize weights\n",
        "        self._initialize_weights()\n",
        "\n",
        "    def _initialize_weights(self):\n",
        "        for m in self.modules():\n",
        "            if isinstance(m, nn.Conv2d):\n",
        "                nn.init.kaiming_normal_(m.weight, mode='fan_out', nonlinearity='relu')\n",
        "                if m.bias is not None:\n",
        "                    nn.init.constant_(m.bias, 0)\n",
        "            elif isinstance(m, nn.BatchNorm2d):\n",
        "                nn.init.constant_(m.weight, 1)\n",
        "                nn.init.constant_(m.bias, 0)\n",
        "            elif isinstance(m, nn.Linear):\n",
        "                nn.init.normal_(m.weight, 0, 0.01)\n",
        "                nn.init.constant_(m.bias, 0)\n",
        "\n",
        "    def forward(self, x):\n",
        "        x = self.conv1(x)\n",
        "        x = self.conv2(x)\n",
        "        x = self.conv3(x)\n",
        "        x = self.conv4(x)\n",
        "        x = self.adaptive_pool(x)\n",
        "        x = torch.flatten(x, 1)\n",
        "        x = self.classifier(x)\n",
        "        return x\n",
        "\n",
        "my_model = MyCNN().to(device)\n",
        "\n",
        "summary(my_model, (3, 224, 224), device = device.type)"
      ]
    },
    {
      "cell_type": "code",
      "execution_count": null,
      "id": "56f08d84",
      "metadata": {
        "_cell_guid": "37cd1733-77a0-42e8-b63d-be9286d62cf1",
        "_uuid": "b1821ce8-e2f7-41a5-b96b-87792cd6565c",
        "execution": {
          "iopub.execute_input": "2025-01-04T17:32:59.847425Z",
          "iopub.status.busy": "2025-01-04T17:32:59.847122Z",
          "iopub.status.idle": "2025-01-04T17:33:02.476589Z",
          "shell.execute_reply": "2025-01-04T17:33:02.475621Z"
        },
        "id": "56f08d84",
        "jupyter": {
          "outputs_hidden": false
        },
        "papermill": {
          "duration": 2.655286,
          "end_time": "2025-01-04T17:33:02.478308",
          "exception": false,
          "start_time": "2025-01-04T17:32:59.823022",
          "status": "completed"
        },
        "tags": []
      },
      "outputs": [],
      "source": [
        "resnet = resnet50(weights=None).to(device)\n",
        "resnet.fc = nn.Linear(resnet.fc.in_features, NUM_CLASSES).to(device)\n",
        "\n",
        "vgg = vgg16(weights=None).to(device)\n",
        "vgg.classifier[6] = nn.Linear(vgg.classifier[6].in_features, NUM_CLASSES).to(device)\n",
        "\n",
        "mobilenet = mobilenet_v2(weights=None).to(device)\n",
        "mobilenet.classifier[1] = nn.Linear(mobilenet.classifier[1].in_features, NUM_CLASSES).to(device)"
      ]
    },
    {
      "cell_type": "code",
      "execution_count": 10,
      "id": "9ed3757e",
      "metadata": {
        "_cell_guid": "fcec9822-df4a-473a-bc97-bdfd62962a90",
        "_uuid": "b2ed65df-9a2e-4ae9-930d-ef50850ef122",
        "execution": {
          "iopub.execute_input": "2025-01-04T17:33:02.525615Z",
          "iopub.status.busy": "2025-01-04T17:33:02.525358Z",
          "iopub.status.idle": "2025-01-04T17:33:02.834133Z",
          "shell.execute_reply": "2025-01-04T17:33:02.833152Z"
        },
        "id": "9ed3757e",
        "jupyter": {
          "outputs_hidden": false
        },
        "papermill": {
          "duration": 0.334267,
          "end_time": "2025-01-04T17:33:02.836003",
          "exception": false,
          "start_time": "2025-01-04T17:33:02.501736",
          "status": "completed"
        },
        "tags": []
      },
      "outputs": [],
      "source": [
        "# Print model summaries\n",
        "print(\"ResNet50 Summary:\")\n",
        "summary(resnet, (3, 224, 224), device=device.type)\n",
        "\n",
        "print(\"\\nVGG16 Summary:\")\n",
        "summary(vgg, (3, 224, 224), device=device.type)\n",
        "\n",
        "print(\"\\nMobileNetV2 Summary:\")\n",
        "summary(mobilenet, (3, 224, 224), device=device.type)"
      ]
    },
    {
      "cell_type": "code",
      "execution_count": null,
      "id": "fdeb5f2f",
      "metadata": {
        "_cell_guid": "84698504-3637-4dcf-8f17-0f054c846d99",
        "_uuid": "6cf8ec9f-f172-483d-9cc8-6f095e3e618f",
        "execution": {
          "iopub.execute_input": "2025-01-04T17:33:02.931328Z",
          "iopub.status.busy": "2025-01-04T17:33:02.931060Z",
          "iopub.status.idle": "2025-01-04T17:33:02.934343Z",
          "shell.execute_reply": "2025-01-04T17:33:02.933676Z"
        },
        "id": "fdeb5f2f",
        "jupyter": {
          "outputs_hidden": false
        },
        "papermill": {
          "duration": 0.028748,
          "end_time": "2025-01-04T17:33:02.935516",
          "exception": false,
          "start_time": "2025-01-04T17:33:02.906768",
          "status": "completed"
        },
        "tags": []
      },
      "outputs": [],
      "source": [
        "models = {\n",
        "    'my_model': my_model,\n",
        "    'resnet': resnet,\n",
        "    'vgg16': vgg,\n",
        "    'mobilenet': mobilenet\n",
        "}"
      ]
    },
    {
      "cell_type": "code",
      "execution_count": null,
      "id": "76e61b68",
      "metadata": {
        "_cell_guid": "48a9f7ef-aa04-41d9-9fbc-069c5ab45258",
        "_uuid": "656e9d27-9aa1-447f-9621-dfd5a18b0339",
        "execution": {
          "iopub.execute_input": "2025-01-04T17:33:03.029722Z",
          "iopub.status.busy": "2025-01-04T17:33:03.029436Z",
          "iopub.status.idle": "2025-01-04T17:33:03.032378Z",
          "shell.execute_reply": "2025-01-04T17:33:03.031726Z"
        },
        "jupyter": {
          "outputs_hidden": false
        },
        "papermill": {
          "duration": 0.028314,
          "end_time": "2025-01-04T17:33:03.033606",
          "exception": false,
          "start_time": "2025-01-04T17:33:03.005292",
          "status": "completed"
        },
        "tags": [],
        "id": "76e61b68"
      },
      "outputs": [],
      "source": [
        "# import shutil\n",
        "# shutil.rmtree(\"/kaggle/working/\")"
      ]
    },
    {
      "cell_type": "code",
      "execution_count": null,
      "id": "ccd5424a",
      "metadata": {
        "_cell_guid": "b84c5565-b16f-49ea-8bef-ce9c8f08f64b",
        "_uuid": "0a05dc9e-8285-4977-928c-5245471a1ad3",
        "execution": {
          "iopub.execute_input": "2025-01-04T17:33:03.129541Z",
          "iopub.status.busy": "2025-01-04T17:33:03.129289Z",
          "iopub.status.idle": "2025-01-04T17:33:03.139014Z",
          "shell.execute_reply": "2025-01-04T17:33:03.138431Z"
        },
        "id": "ccd5424a",
        "jupyter": {
          "outputs_hidden": false
        },
        "papermill": {
          "duration": 0.035938,
          "end_time": "2025-01-04T17:33:03.140282",
          "exception": false,
          "start_time": "2025-01-04T17:33:03.104344",
          "status": "completed"
        },
        "tags": []
      },
      "outputs": [],
      "source": [
        "def train_model(model, model_name, train_loader, val_loader, num_epochs=50):\n",
        "    model = model.to(device)\n",
        "    criterion = nn.CrossEntropyLoss()\n",
        "\n",
        "    # Using AdamW optimizer with weight decay\n",
        "    optimizer = torch.optim.AdamW(model.parameters(), lr=0.001, weight_decay=0.01)\n",
        "\n",
        "    # Cosine Annealing scheduler\n",
        "    scheduler = torch.optim.lr_scheduler.CosineAnnealingLR(optimizer, T_max=num_epochs, eta_min=1e-6)\n",
        "\n",
        "    best_val_acc = 0.0\n",
        "    patience = 10  # Increased patience\n",
        "    patience_counter = 0\n",
        "\n",
        "    scaler = torch.cuda.amp.GradScaler()  # For mixed precision training\n",
        "\n",
        "    train_losses = []\n",
        "    train_accs = []\n",
        "    val_accs = []\n",
        "\n",
        "    for epoch in range(num_epochs):\n",
        "        model.train()\n",
        "        running_loss = 0.0\n",
        "        correct = 0\n",
        "        total = 0\n",
        "\n",
        "        for batch_idx, (images, labels) in enumerate(train_loader):\n",
        "            images, labels = images.to(device), labels.to(device)\n",
        "\n",
        "            optimizer.zero_grad()\n",
        "\n",
        "            # Mixed precision training\n",
        "            with torch.cuda.amp.autocast():\n",
        "                outputs = model(images)\n",
        "                loss = criterion(outputs, labels)\n",
        "\n",
        "            scaler.scale(loss).backward()\n",
        "            scaler.step(optimizer)\n",
        "            scaler.update()\n",
        "\n",
        "            running_loss += loss.item()\n",
        "            _, predicted = outputs.max(1)\n",
        "            total += labels.size(0)\n",
        "            correct += predicted.eq(labels).sum().item()\n",
        "\n",
        "            if batch_idx % 20 == 0:\n",
        "                print(f'Epoch: {epoch+1} [{batch_idx * len(images)}/{len(train_loader.dataset)} '\n",
        "                      f'({100. * batch_idx / len(train_loader):.0f}%)]\\tLoss: {loss.item():.6f}')\n",
        "\n",
        "        train_loss = running_loss / len(train_loader)\n",
        "        train_acc = 100. * correct / total\n",
        "\n",
        "        # Validation phase\n",
        "        model.eval()\n",
        "        val_loss = 0.0\n",
        "        correct = 0\n",
        "        total = 0\n",
        "\n",
        "        with torch.no_grad():\n",
        "            for images, labels in val_loader:\n",
        "                images, labels = images.to(device), labels.to(device)\n",
        "                outputs = model(images)\n",
        "                loss = criterion(outputs, labels)\n",
        "                val_loss += loss.item()\n",
        "                _, predicted = outputs.max(1)\n",
        "                total += labels.size(0)\n",
        "                correct += predicted.eq(labels).sum().item()\n",
        "\n",
        "        val_loss = val_loss / len(val_loader)\n",
        "        val_acc = 100. * correct / total\n",
        "\n",
        "        train_losses.append(train_loss)\n",
        "        train_accs.append(train_acc)\n",
        "        val_accs.append(val_acc)\n",
        "\n",
        "        print(f'Epoch {epoch+1}/{num_epochs}:')\n",
        "        print(f'Train Loss: {train_loss:.4f}, Train Acc: {train_acc:.2f}%')\n",
        "        print(f'Val Loss: {val_loss:.4f}, Val Acc: {val_acc:.2f}%')\n",
        "        print('-' * 60)\n",
        "\n",
        "        scheduler.step()\n",
        "\n",
        "        if val_acc > best_val_acc:\n",
        "            best_val_acc = val_acc\n",
        "            torch.save({\n",
        "                'epoch': epoch,\n",
        "                'model_state_dict': model.state_dict(),\n",
        "                'optimizer_state_dict': optimizer.state_dict(),\n",
        "                'val_acc': val_acc,\n",
        "            }, f'{model_name}_best.pth')\n",
        "            patience_counter = 0\n",
        "            print(f'New best model saved with validation accuracy: {val_acc:.2f}%')\n",
        "        else:\n",
        "            patience_counter += 1\n",
        "\n",
        "        if patience_counter >= patience:\n",
        "            print(f'Early stopping triggered after {epoch + 1} epochs')\n",
        "            break\n",
        "\n",
        "    return train_losses, train_accs, val_accs\n"
      ]
    },
    {
      "cell_type": "code",
      "execution_count": 11,
      "id": "af306c4d",
      "metadata": {
        "_cell_guid": "73f3d607-3901-4933-ae6a-55411eae3ee6",
        "_uuid": "46d9d93b-7f84-4a8a-8b57-8bbb40f0c884",
        "execution": {
          "iopub.execute_input": "2025-01-04T17:33:03.234359Z",
          "iopub.status.busy": "2025-01-04T17:33:03.234106Z",
          "iopub.status.idle": "2025-01-04T18:29:05.488578Z",
          "shell.execute_reply": "2025-01-04T18:29:05.487665Z"
        },
        "id": "af306c4d",
        "jupyter": {
          "outputs_hidden": false
        },
        "papermill": {
          "duration": 3362.280464,
          "end_time": "2025-01-04T18:29:05.490279",
          "exception": false,
          "start_time": "2025-01-04T17:33:03.209815",
          "status": "completed"
        },
        "tags": []
      },
      "outputs": [],
      "source": [
        "for name, model in models.items():\n",
        "    print(f\"\\nTraining {name}...\")\n",
        "    print(\"=\" * 60)\n",
        "    train_losses, train_accs, val_accs = train_model(model, name, train_loader, val_loader)\n",
        "\n",
        "    # Plot training curves\n",
        "    plt.figure(figsize=(15, 5))\n",
        "\n",
        "    plt.subplot(1, 2, 1)\n",
        "    plt.plot(train_losses, label='Training Loss')\n",
        "    plt.title(f'{name} Training Loss')\n",
        "    plt.xlabel('Epoch')\n",
        "    plt.ylabel('Loss')\n",
        "    plt.legend()\n",
        "\n",
        "    plt.subplot(1, 2, 2)\n",
        "    plt.plot(train_accs, label='Train Acc')\n",
        "    plt.plot(val_accs, label='Val Acc')\n",
        "    plt.title(f'{name} Accuracy')\n",
        "    plt.xlabel('Epoch')\n",
        "    plt.ylabel('Accuracy (%)')\n",
        "    plt.legend()\n",
        "\n",
        "    plt.tight_layout()\n",
        "    plt.savefig(f'{name}_training.png')\n",
        "    plt.show()"
      ]
    },
    {
      "cell_type": "code",
      "execution_count": 12,
      "id": "20c0d98f",
      "metadata": {
        "execution": {
          "iopub.execute_input": "2025-01-04T18:29:05.726591Z",
          "iopub.status.busy": "2025-01-04T18:29:05.726241Z",
          "iopub.status.idle": "2025-01-04T18:29:06.074030Z",
          "shell.execute_reply": "2025-01-04T18:29:06.072705Z"
        },
        "papermill": {
          "duration": 0.411592,
          "end_time": "2025-01-04T18:29:06.078781",
          "exception": false,
          "start_time": "2025-01-04T18:29:05.667189",
          "status": "completed"
        },
        "tags": [],
        "id": "20c0d98f"
      },
      "outputs": [],
      "source": [
        "import os\n",
        "from PIL import Image\n",
        "from matplotlib import pyplot as plt\n",
        "\n",
        "# Define class names\n",
        "CLASS_NAMES = ['SUV', 'Bus', 'Family Sedan', 'Fire Engine', 'Heavy Truck',\n",
        "               'Jeep', 'Minibus', 'Racing Car', 'Taxi', 'Truck']\n",
        "\n",
        "# Function to predict class of a given image\n",
        "def predict_image(image_path, model, class_names):\n",
        "    transform = transforms.Compose([\n",
        "        transforms.Resize((224, 224)),\n",
        "        transforms.ToTensor(),\n",
        "        transforms.Normalize(mean=[0.485, 0.456, 0.406], std=[0.229, 0.224, 0.225])\n",
        "    ])\n",
        "    image = Image.open(image_path).convert('RGB')\n",
        "    image = transform(image).unsqueeze(0).to(device)  # Add batch dimension\n",
        "\n",
        "    model.eval()\n",
        "    with torch.no_grad():\n",
        "        outputs = model(image)\n",
        "        _, predicted = outputs.max(1)\n",
        "\n",
        "    return class_names[predicted.item()]\n",
        "\n",
        "# Example: Predicting class of a specific image from the dataset\n",
        "test_image_path = \"/kaggle/input/vehicle-classification/test/01ab0c4e74e5cefbc25e78e8b2b4b30d.jpg\"  # Replace with the actual image path\n",
        "\n",
        "# Predict the class\n",
        "predicted_class = predict_image(test_image_path, my_model, CLASS_NAMES)\n",
        "print(f\"Predicted Class: {predicted_class}\")\n",
        "\n",
        "# Optional: Visualize the prediction\n",
        "image = Image.open(test_image_path).convert('RGB')\n",
        "plt.imshow(image)\n",
        "plt.title(f\"Predicted: {predicted_class}\")\n",
        "plt.axis('off')\n",
        "plt.show()"
      ]
    },
    {
      "cell_type": "code",
      "execution_count": 13,
      "id": "ebfaeab6",
      "metadata": {
        "execution": {
          "iopub.execute_input": "2025-01-04T18:29:06.209549Z",
          "iopub.status.busy": "2025-01-04T18:29:06.209251Z",
          "iopub.status.idle": "2025-01-04T18:29:06.568165Z",
          "shell.execute_reply": "2025-01-04T18:29:06.567306Z"
        },
        "papermill": {
          "duration": 0.428884,
          "end_time": "2025-01-04T18:29:06.573044",
          "exception": false,
          "start_time": "2025-01-04T18:29:06.144160",
          "status": "completed"
        },
        "tags": [],
        "id": "ebfaeab6"
      },
      "outputs": [],
      "source": [
        "import os\n",
        "from PIL import Image\n",
        "from matplotlib import pyplot as plt\n",
        "\n",
        "# Define class names\n",
        "CLASS_NAMES = ['SUV', 'Bus', 'Family Sedan', 'Fire Engine', 'Heavy Truck',\n",
        "               'Jeep', 'Minibus', 'Racing Car', 'Taxi', 'Truck']\n",
        "\n",
        "# Function to predict class of a given image\n",
        "def predict_image(image_path, model, class_names):\n",
        "    transform = transforms.Compose([\n",
        "        transforms.Resize((224, 224)),\n",
        "        transforms.ToTensor(),\n",
        "        transforms.Normalize(mean=[0.485, 0.456, 0.406], std=[0.229, 0.224, 0.225])\n",
        "    ])\n",
        "    image = Image.open(image_path).convert('RGB')\n",
        "    image = transform(image).unsqueeze(0).to(device)  # Add batch dimension\n",
        "\n",
        "    model.eval()\n",
        "    with torch.no_grad():\n",
        "        outputs = model(image)\n",
        "        _, predicted = outputs.max(1)\n",
        "\n",
        "    return class_names[predicted.item()]\n",
        "\n",
        "# Example: Predicting class of a specific image from the dataset\n",
        "test_image_path = \"/kaggle/input/vehicle-classification/test/02a43a441f5c71ab9ff8ecab1f33ca49.jpg\"\n",
        "\n",
        "# Predict the class\n",
        "predicted_class = predict_image(test_image_path, my_model, CLASS_NAMES)\n",
        "print(f\"Predicted Class: {predicted_class}\")\n",
        "\n",
        "# Optional: Visualize the prediction\n",
        "image = Image.open(test_image_path).convert('RGB')\n",
        "plt.imshow(image)\n",
        "plt.title(f\"Predicted: {predicted_class}\")\n",
        "plt.axis('off')\n",
        "plt.show()"
      ]
    },
    {
      "cell_type": "code",
      "execution_count": 14,
      "id": "8f56ad91",
      "metadata": {
        "execution": {
          "iopub.execute_input": "2025-01-04T18:29:06.713748Z",
          "iopub.status.busy": "2025-01-04T18:29:06.713464Z",
          "iopub.status.idle": "2025-01-04T18:29:06.718383Z",
          "shell.execute_reply": "2025-01-04T18:29:06.717322Z"
        },
        "papermill": {
          "duration": 0.075404,
          "end_time": "2025-01-04T18:29:06.719465",
          "exception": true,
          "start_time": "2025-01-04T18:29:06.644061",
          "status": "failed"
        },
        "tags": [],
        "id": "8f56ad91"
      },
      "outputs": [],
      "source": [
        "# kaggle kernels output arslan750/vehicle-type-classification"
      ]
    }
  ],
  "metadata": {
    "colab": {
      "provenance": [],
      "include_colab_link": true
    },
    "kaggle": {
      "accelerator": "nvidiaTeslaT4",
      "dataSources": [
        {
          "datasetId": 3953194,
          "sourceId": 6880434,
          "sourceType": "datasetVersion"
        }
      ],
      "dockerImageVersionId": 30823,
      "isGpuEnabled": true,
      "isInternetEnabled": true,
      "language": "python",
      "sourceType": "notebook"
    },
    "kernelspec": {
      "display_name": "Python 3",
      "language": "python",
      "name": "python3"
    },
    "language_info": {
      "codemirror_mode": {
        "name": "ipython",
        "version": 3
      },
      "file_extension": ".py",
      "mimetype": "text/x-python",
      "name": "python",
      "nbconvert_exporter": "python",
      "pygments_lexer": "ipython3",
      "version": "3.10.12"
    },
    "papermill": {
      "default_parameters": {},
      "duration": 3389.007098,
      "end_time": "2025-01-04T18:29:09.769333",
      "environment_variables": {},
      "exception": true,
      "input_path": "__notebook__.ipynb",
      "output_path": "__notebook__.ipynb",
      "parameters": {},
      "start_time": "2025-01-04T17:32:40.762235",
      "version": "2.6.0"
    }
  },
  "nbformat": 4,
  "nbformat_minor": 5
}